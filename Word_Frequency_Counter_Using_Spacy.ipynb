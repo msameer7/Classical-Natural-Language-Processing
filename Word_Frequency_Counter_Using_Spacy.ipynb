{
  "nbformat": 4,
  "nbformat_minor": 0,
  "metadata": {
    "colab": {
      "provenance": []
    },
    "kernelspec": {
      "name": "python3",
      "display_name": "Python 3"
    },
    "language_info": {
      "name": "python"
    }
  },
  "cells": [
    {
      "cell_type": "markdown",
      "source": [
        "## Word Frequency **Counter** Using SPACY"
      ],
      "metadata": {
        "id": "B_Di6sAHQAVc"
      }
    },
    {
      "cell_type": "code",
      "source": [
        "import spacy\n",
        "from collections import Counter"
      ],
      "metadata": {
        "id": "ixqFWsGBP0TD"
      },
      "execution_count": 3,
      "outputs": []
    },
    {
      "cell_type": "code",
      "source": [
        "# Loading the small English model in spaCy\n",
        "\n",
        "nlp = spacy.load(\"en_core_web_sm\")"
      ],
      "metadata": {
        "id": "UHYVWaAXP6qv"
      },
      "execution_count": 4,
      "outputs": []
    },
    {
      "cell_type": "code",
      "source": [
        "def word_frequency_counter(text):\n",
        "    # Process the text with spaCy to create a Doc object\n",
        "    doc = nlp(text)\n",
        "\n",
        "    # Filter tokens: keep only alphabetic words and remove stopwords and punctuations\n",
        "    filtered_tokens = [token.text.lower() for token in doc\n",
        "                       if token.is_alpha and not token.is_stop]\n",
        "\n",
        "    # Use Counter to count the frequency of each filtered word\n",
        "    frequency = Counter(filtered_tokens)\n",
        "\n",
        "    return frequency"
      ],
      "metadata": {
        "id": "BCQhFTGvQLgU"
      },
      "execution_count": 5,
      "outputs": []
    },
    {
      "cell_type": "code",
      "source": [
        "# Example text\n",
        "sample_text = \"\"\"\n",
        "Cristiano Ronaldo's family helps him stay grounded but they can also break his heart at times.\n",
        "The five-time Ballon d'Or winner was reduced to tears when recently shown a videotaped interview of his late father conducted in 2004, a year before Cristiano Ronaldo Father's death.\n",
        "\"\"\""
      ],
      "metadata": {
        "id": "TG3P9ft7QPWo"
      },
      "execution_count": 9,
      "outputs": []
    },
    {
      "cell_type": "code",
      "source": [
        "# Get the word frequencies\n",
        "freq = word_frequency_counter(sample_text)"
      ],
      "metadata": {
        "id": "ylkzy9FrQXDH"
      },
      "execution_count": 10,
      "outputs": []
    },
    {
      "cell_type": "code",
      "source": [
        "# Print frequencies in descending order\n",
        "for word, count in freq.most_common():\n",
        "    print(f\"{word}: {count}\")"
      ],
      "metadata": {
        "colab": {
          "base_uri": "https://localhost:8080/"
        },
        "id": "ZCbtto4BQZRP",
        "outputId": "d4995f18-bff9-40c5-af0a-c9af8aec8f46"
      },
      "execution_count": 11,
      "outputs": [
        {
          "output_type": "stream",
          "name": "stdout",
          "text": [
            "cristiano: 2\n",
            "ronaldo: 2\n",
            "father: 2\n",
            "family: 1\n",
            "helps: 1\n",
            "stay: 1\n",
            "grounded: 1\n",
            "break: 1\n",
            "heart: 1\n",
            "times: 1\n",
            "time: 1\n",
            "ballon: 1\n",
            "winner: 1\n",
            "reduced: 1\n",
            "tears: 1\n",
            "recently: 1\n",
            "shown: 1\n",
            "videotaped: 1\n",
            "interview: 1\n",
            "late: 1\n",
            "conducted: 1\n",
            "year: 1\n",
            "death: 1\n"
          ]
        }
      ]
    },
    {
      "cell_type": "markdown",
      "source": [
        "***Why We Use These Functions:***\n",
        "**nlp(text):** This converts the raw text into a spaCy Doc object which contains linguistic annotations like tokens, lemmas, part of speech, etc. This is the core processing step.\n",
        "\n",
        "**token.is_alpha:** Filters tokens to keep only alphabetic words (ignores numbers, punctuation, symbols) — this keeps our count focused on real words.\n",
        "\n",
        "**token.is_stop:** Removes stopwords (common filler words) which are not useful for meaningful frequency analysis.\n",
        "\n",
        "**token.text.lower():** Converts all tokens to lowercase so words like \"Amazon\" and \"amazon\" are counted together.\n",
        "\n",
        "**Counter:** A built-in Python collection to count how many times each word appears.\n",
        "\n"
      ],
      "metadata": {
        "id": "3rIaGEWwQpb7"
      }
    },
    {
      "cell_type": "code",
      "source": [],
      "metadata": {
        "id": "J0QX_zmdQrsq"
      },
      "execution_count": null,
      "outputs": []
    }
  ]
}